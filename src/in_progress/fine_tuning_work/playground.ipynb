{
 "cells": [
  {
   "cell_type": "code",
   "execution_count": 9,
   "id": "2c3399c4-809f-48eb-84b6-74ee19950573",
   "metadata": {},
   "outputs": [
    {
     "name": "stdout",
     "output_type": "stream",
     "text": [
      "cuda\n"
     ]
    }
   ],
   "source": [
    "# Perform my imports\n",
    "\n",
    "import torch\n",
    "from transformers import AutoTokenizer, BitsAndBytesConfig, AutoModelForCausalLM\n",
    "import heapq\n",
    "import json\n",
    "import time\n",
    "import random\n",
    "import os\n",
    "import re\n",
    "import math\n",
    "import pandas as pd\n",
    "import sys\n",
    "import numpy as np\n",
    "from typing import Optional, List\n",
    "from transformers import AutoTokenizer, LlamaForCausalLM, BitsAndBytesConfig\n",
    "import json, csv\n",
    "from sklearn.model_selection import train_test_split\n",
    "\n",
    "sys.path.append(\"..\")\n",
    "from CeRTS_beam_multi import *\n",
    "from CeRTS_utils import *\n",
    "sys.path.remove(\"..\")\n",
    "\n",
    "device = torch.device('cuda' if torch.cuda.is_available() else 'cpu')\n",
    "print(device)"
   ]
  },
  {
   "cell_type": "markdown",
   "id": "aae9da7a-0a49-4362-bef6-8875e257ded9",
   "metadata": {},
   "source": [
    "# Now mess around with my data to just get it split up into sections"
   ]
  },
  {
   "cell_type": "code",
   "execution_count": 12,
   "id": "765114ee-3299-46cc-8f42-267be7e79287",
   "metadata": {},
   "outputs": [],
   "source": [
    "df = pd.read_csv('../data/SimSUM_updated.csv')\n",
    "df = pd.read_csv('../data/SimSUM_updated.csv', usecols=lambda col: not col.startswith(\"Unnamed:\"))\n",
    "train_df, temp_df = train_test_split(df,test_size=0.20,shuffle=True,random_state=1)\n",
    "\n",
    "val_df, test_df = train_test_split(temp_df,test_size=0.50,shuffle=True,random_state=1)\n",
    "\n",
    "val_prompt_100_df, val_final_df = train_test_split(val_df,train_size=100,shuffle=True,random_state=1)"
   ]
  },
  {
   "cell_type": "code",
   "execution_count": 14,
   "id": "19e72328-c520-4fe7-a147-274288f88219",
   "metadata": {},
   "outputs": [],
   "source": [
    "train_df.to_csv(\"clinical_data/train.csv\", index = False)\n",
    "val_df.to_csv(\"clinical_data/validation.csv\", index = False)\n",
    "test_df.to_csv(\"clinical_data/test.csv\", index = False)"
   ]
  }
 ],
 "metadata": {
  "kernelspec": {
   "display_name": "DeepLearning",
   "language": "python",
   "name": "deeplearning"
  },
  "language_info": {
   "codemirror_mode": {
    "name": "ipython",
    "version": 3
   },
   "file_extension": ".py",
   "mimetype": "text/x-python",
   "name": "python",
   "nbconvert_exporter": "python",
   "pygments_lexer": "ipython3",
   "version": "3.12.2"
  }
 },
 "nbformat": 4,
 "nbformat_minor": 5
}
