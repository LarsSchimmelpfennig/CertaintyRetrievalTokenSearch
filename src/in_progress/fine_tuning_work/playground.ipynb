{
 "cells": [
  {
   "cell_type": "code",
   "execution_count": 1,
   "id": "2c3399c4-809f-48eb-84b6-74ee19950573",
   "metadata": {},
   "outputs": [],
   "source": [
    "# Perform my imports\n",
    "\n",
    "import torch\n",
    "from transformers import AutoTokenizer, BitsAndBytesConfig, AutoModelForCausalLM\n",
    "import heapq\n",
    "import json\n",
    "import time\n",
    "import random\n",
    "import os\n",
    "import re\n",
    "import math\n",
    "import pandas as pd\n",
    "import sys\n",
    "import numpy as np\n",
    "from typing import Optional, List\n",
    "from transformers import AutoTokenizer, LlamaForCausalLM, BitsAndBytesConfig\n",
    "import json, csv\n",
    "from sklearn.model_selection import train_test_split\n",
    "\n",
    "sys.path.append(\"..\")\n",
    "from CeRTS_beam_multi import *\n",
    "from CeRTS_utils import *\n",
    "sys.path.remove(\"..\")\n",
    "\n",
    "from generation_functions import *\n",
    "\n",
    "device = torch.device('cuda' if torch.cuda.is_available() else 'cpu')"
   ]
  },
  {
   "cell_type": "markdown",
   "id": "466e27b2-565f-456f-84a8-3fa264e26b7b",
   "metadata": {},
   "source": [
    "# Data Initializations"
   ]
  },
  {
   "cell_type": "code",
   "execution_count": 2,
   "id": "484d93fc-b448-4b2e-9ea6-9d8933d9a604",
   "metadata": {},
   "outputs": [],
   "source": [
    "df_val = pd.read_csv(\"clinical_data/validation.csv\")\n",
    "\n",
    "json_template = {\n",
    "    \"asthma\": \"yes|no\",\n",
    "    \"smoking\": \"yes|no\",\n",
    "    \"pneu\": \"yes|no\",            \n",
    "    \"common_cold\": \"yes|no\",\n",
    "    \"pain\": \"yes|no\",\n",
    "    \"fever\": \"high|low|no\",\n",
    "    \"antibiotics\": \"yes|no\"\n",
    "}\n",
    "\n",
    "features = json_template.keys()"
   ]
  },
  {
   "cell_type": "markdown",
   "id": "aae9da7a-0a49-4362-bef6-8875e257ded9",
   "metadata": {},
   "source": [
    "# Now mess around with my data to just get it split up into sections"
   ]
  },
  {
   "cell_type": "markdown",
   "id": "25dd51a8-6b69-4e26-9cfc-3438c8b1929b",
   "metadata": {},
   "source": [
    "### Load in Model"
   ]
  },
  {
   "cell_type": "code",
   "execution_count": 3,
   "id": "a4828c33-e894-45e0-9839-9df4575a1528",
   "metadata": {},
   "outputs": [
    {
     "data": {
      "application/vnd.jupyter.widget-view+json": {
       "model_id": "83023375191a47fab106c63cfaa6d8a9",
       "version_major": 2,
       "version_minor": 0
      },
      "text/plain": [
       "Loading checkpoint shards:   0%|          | 0/2 [00:00<?, ?it/s]"
      ]
     },
     "metadata": {},
     "output_type": "display_data"
    }
   ],
   "source": [
    "model_path = \"models/llama-3.2-3b-instruct\"\n",
    "\n",
    "# load tokenizer\n",
    "tokenizer = AutoTokenizer.from_pretrained(model_path)\n",
    "\n",
    "# load model (using float16 + device map for GPU efficiency)\n",
    "model = AutoModelForCausalLM.from_pretrained(\n",
    "    model_path,\n",
    "    device_map=\"auto\" \n",
    ")"
   ]
  },
  {
   "cell_type": "markdown",
   "id": "09033850-a3c7-4d95-90b0-472044ea5be3",
   "metadata": {},
   "source": [
    "### Now Test the Model"
   ]
  },
  {
   "cell_type": "code",
   "execution_count": 6,
   "id": "3de8f1bb-5485-47ef-afe3-ca4235281705",
   "metadata": {},
   "outputs": [
    {
     "name": "stdout",
     "output_type": "stream",
     "text": [
      "[{'role': 'system', 'content': 'You are an information extraction function.\\nReturn EXACTLY one JSON object and nothing else (no prose, no code fences).\\nAll boolean-like fields MUST be STRING LITERALS \\'yes\\' or \\'no\\' (never 1/0, never true/false).\\nUse lowercase literals exactly as shown. Do not add, remove, or rename keys.\\nSchema (types and enums are STRICT):\\n{\"type\":\"object\",\"additionalProperties\":false,\"properties\":{\"asthma\":{\"type\":\"string\",\"enum\":[\"yes\",\"no\"]},\"smoking\":{\"type\":\"string\",\"enum\":[\"yes\",\"no\"]},\"pneu\":{\"type\":\"string\",\"enum\":[\"yes\",\"no\"]},\"common_cold\":{\"type\":\"string\",\"enum\":[\"yes\",\"no\"]},\"pain\":{\"type\":\"string\",\"enum\":[\"yes\",\"no\"]},\"fever\":{\"type\":\"string\",\"enum\":[\"high\",\"low\",\"no\"]},\"antibiotics\":{\"type\":\"string\",\"enum\":[\"yes\",\"no\"]},}}'}, {'role': 'user', 'content': 'Now extract the following fields: asthma, smoking, pneu, common_cold, pain, fever, antibiotics.\\nOutput ONLY a single JSON object that matches this exact schema: {\"asthma\": \"yes|no\", \"smoking\": \"yes|no\", \"pneu\": \"yes|no\", \"common_cold\": \"yes|no\", \"pain\": \"yes|no\", \"fever\": \"high|low|no\", \"antibiotics\": \"yes|no\"}\\nReplace placeholders with the allowed enum values above.\\nNever use 1/0 or true/false for boolean-like fields—always \\'yes\\' or \\'no\\'.\\nIf fever is not mentioned, set fever to \\'no\\'.\\n\\nText: **History**\\nPt c/o lower back pain x1 month, worsens w/ prolonged sitting, slightly better with gentle stretching. Described as dull ache in lumbar region, occasionally radiates to buttocks. Denies bowel/bladder dysfx. No trauma/heavy lifting. Sedentary office job, long hours seated.\\n\\n**Physical Examination**\\nVS stable: BP 122/78, HR 68, RR 16. Pt ambulates w/ mild discomfort, no antalgic gait. Spine exam: mild tenderness in lower lumbar, no deformity/muscle spasms. Neg SLR. Reflexes intact, symmetric. Full ROM in LEs, no paresthesia. Strength 5/5. Cardiovascular exam NL.'}]\n"
     ]
    }
   ],
   "source": [
    "n = 52\n",
    "\n",
    "# Model\n",
    "df_val.loc[n, 'advanced_text']\n",
    "prompt = gen_prompt_no_shot(df_val.loc[n, 'advanced_text'], features, json_template)\n",
    "print(prompt)"
   ]
  },
  {
   "cell_type": "code",
   "execution_count": 7,
   "id": "a15157f7-3173-4271-8620-e320ed43276c",
   "metadata": {},
   "outputs": [
    {
     "name": "stderr",
     "output_type": "stream",
     "text": [
      "Setting `pad_token_id` to `eos_token_id`:128001 for open-end generation.\n"
     ]
    },
    {
     "data": {
      "text/plain": [
       "'{\"asthma\": \"no\", \"smoking\": \"no\", \"pneu\": \"no\", \"common_cold\": \"no\", \"pain\": \"yes\", \"fever\": \"no\", \"antibiotics\": \"no\"}'"
      ]
     },
     "execution_count": 7,
     "metadata": {},
     "output_type": "execute_result"
    }
   ],
   "source": [
    "# convert messages into a proper model input\n",
    "prompt = tokenizer.apply_chat_template(prompt, tokenize=False, add_generation_prompt=True)\n",
    "\n",
    "# tokenize\n",
    "inputs = tokenizer(prompt, return_tensors=\"pt\").to(model.device)\n",
    "\n",
    "# generate response\n",
    "outputs = model.generate(\n",
    "    **inputs,\n",
    "    max_new_tokens=100,\n",
    "    temperature=0.7,\n",
    "    top_p=0.9,\n",
    "    do_sample=True\n",
    ")\n",
    "\n",
    "# decode to string\n",
    "generated_tokens = outputs[0][inputs[\"input_ids\"].shape[-1]:]\n",
    "response = tokenizer.decode(generated_tokens, skip_special_tokens=True)\n",
    "\n",
    "# \n",
    "response"
   ]
  }
 ],
 "metadata": {
  "kernelspec": {
   "display_name": "DeepLearning",
   "language": "python",
   "name": "deeplearning"
  },
  "language_info": {
   "codemirror_mode": {
    "name": "ipython",
    "version": 3
   },
   "file_extension": ".py",
   "mimetype": "text/x-python",
   "name": "python",
   "nbconvert_exporter": "python",
   "pygments_lexer": "ipython3",
   "version": "3.12.2"
  }
 },
 "nbformat": 4,
 "nbformat_minor": 5
}
